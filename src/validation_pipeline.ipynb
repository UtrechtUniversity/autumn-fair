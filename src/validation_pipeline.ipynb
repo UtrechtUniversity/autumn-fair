{
 "cells": [
  {
   "cell_type": "code",
   "execution_count": 1,
   "id": "90c94976-cf1a-4e03-b98d-ea0785e495ee",
   "metadata": {},
   "outputs": [],
   "source": [
    "import toml\n",
    "import pandas as pd\n",
    "from pathlib import Path"
   ]
  },
  {
   "cell_type": "markdown",
   "id": "90009484-b061-4b10-832d-3d74b39de97a",
   "metadata": {},
   "source": [
    "# Data Validation"
   ]
  },
  {
   "cell_type": "markdown",
   "id": "ac314f96-91b4-40f4-9269-fd935d87b374",
   "metadata": {},
   "source": [
    "## The validation configuration"
   ]
  },
  {
   "cell_type": "markdown",
   "id": "6969895b-2e77-48e8-a5e0-4c0807cd9f50",
   "metadata": {},
   "source": [
    "*Parameters:*"
   ]
  },
  {
   "cell_type": "code",
   "execution_count": 2,
   "id": "fb77baac-2822-49f3-90d2-fc567669cb28",
   "metadata": {},
   "outputs": [],
   "source": [
    "validation_path = Path.cwd().parent / \"data\" / \"metadata_test\" / \"_validation_schema_v2.toml\""
   ]
  },
  {
   "cell_type": "markdown",
   "id": "9dabe77e-1ec7-48ab-8e3a-5806bc9aed0a",
   "metadata": {},
   "source": [
    "*Code:*"
   ]
  },
  {
   "cell_type": "code",
   "execution_count": 3,
   "id": "8445bf48-8cbe-4a22-83e5-085bed7f2bd0",
   "metadata": {},
   "outputs": [
    {
     "data": {
      "text/plain": [
       "{'metadata_keys': ['type', 'format', 'values'],\n",
       " 'hosts': {'host_id': {'type': 'string', 'format': 'AA0_00000'},\n",
       "  'host_groupNumber': {'type': 'integer'},\n",
       "  'host_sex': {'type': 'string', 'format': 'A', 'values': ['M', 'F']},\n",
       "  'host_age': {'type': 'integer'},\n",
       "  'host_death': {'type': 'integer'},\n",
       "  'host_species': {'type': 'string'},\n",
       "  'host_breed': {'type': 'string'}},\n",
       " 'events': {'host_id': {'type': 'string', 'format': 'AA0_00000'},\n",
       "  'event_day': {'type': 'integer'},\n",
       "  'event_time': {'type': 'string', 'format': 'HH:MM'},\n",
       "  'event_type': {'type': 'string',\n",
       "   'values': ['measurement', 'inoculation', 'treatment']},\n",
       "  'measurement_type': {'type': 'string'},\n",
       "  'measurement_quantity': {'type': 'float'},\n",
       "  'measurement_unit': {'type': 'string'},\n",
       "  'inoculation_type': {'type': 'string'},\n",
       "  'inoculation_pathogen': {'type': 'string'},\n",
       "  'inoculation_dose': {'type': 'float'},\n",
       "  'inoculation_unit': {'type': 'string'},\n",
       "  'treatment_type': {'type': 'string'},\n",
       "  'treatment_dose': {'type': 'float'},\n",
       "  'treatment_unit': {'type': 'string'}},\n",
       " 'environment': {'environment_level': {'type': 'integer',\n",
       "   'values': ['1', '2', '3']},\n",
       "  'environment_id': {'type': 'string', 'format': 'A0_A0'}},\n",
       " 'environment_events': {'host_id': {'type': 'string', 'format': 'AA0_00000'},\n",
       "  'environment_id': {'type': 'string', 'format': 'A0_A0'},\n",
       "  'event_type': {'type': 'string', 'values': ['measurement', 'allocation']},\n",
       "  'event_day': {'type': 'integer'},\n",
       "  'event_time': {'type': 'string', 'format': 'HH:MM'},\n",
       "  'measurement_type': {'type': 'string'},\n",
       "  'measurement_quantity': {'type': 'float'},\n",
       "  'measurement_unit': {'type': 'string'}}}"
      ]
     },
     "execution_count": 3,
     "metadata": {},
     "output_type": "execute_result"
    }
   ],
   "source": [
    "validation = toml.load(validation_path)\n",
    "validation"
   ]
  },
  {
   "cell_type": "markdown",
   "id": "7abf68c8-cd36-4063-870d-1ec9f0d6e07e",
   "metadata": {},
   "source": [
    "## Verify data structure in project folder"
   ]
  },
  {
   "cell_type": "markdown",
   "id": "55ca6632-e52c-43ab-9070-336cad4998d7",
   "metadata": {},
   "source": [
    "The project folder should have the following structure:\n",
    "\n",
    "├── data\n",
    "\n",
    "│ ├── environment.csv\n",
    "\n",
    "│ ├── environment_events.csv\n",
    "\n",
    "│ ├── hosts.csv\n",
    "\n",
    "│ └── host_events.csv"
   ]
  },
  {
   "cell_type": "markdown",
   "id": "cb5c4c57-1866-48f7-9cb4-8aed251496a4",
   "metadata": {},
   "source": [
    "*Parameters*"
   ]
  },
  {
   "cell_type": "code",
   "execution_count": 4,
   "id": "a00ed1f5-061d-4732-b85e-830e7fc46899",
   "metadata": {},
   "outputs": [],
   "source": [
    "proj_data_path = Path.cwd().parent / \"data\" / \"synthetic_data\""
   ]
  },
  {
   "cell_type": "markdown",
   "id": "b2ba3d81-710f-4556-8a8a-3f09c15a1273",
   "metadata": {},
   "source": [
    "*Code*"
   ]
  },
  {
   "cell_type": "code",
   "execution_count": 5,
   "id": "722e7a3c-2887-415d-9694-5837827ce333",
   "metadata": {},
   "outputs": [
    {
     "name": "stdout",
     "output_type": "stream",
     "text": [
      "Found files: ['environment_events.csv', 'environment.csv', 'host_events.csv', 'hosts.csv']\n"
     ]
    }
   ],
   "source": [
    "files = [f.name for f in proj_data_path.glob('**/*.csv') if f.is_file()]\n",
    "files = [f for f in files if f in ['environment_events.csv', 'environment.csv', 'host_events.csv', 'hosts.csv']]\n",
    "assert \"environment.csv\" in files\n",
    "assert \"environment_events.csv\" in files\n",
    "assert \"hosts.csv\" in files\n",
    "assert \"host_events.csv\" in files\n",
    "print(f\"Found files: {files}\")"
   ]
  },
  {
   "cell_type": "markdown",
   "id": "9331bd62-22e7-4b4a-ad45-d12ed587d87b",
   "metadata": {},
   "source": [
    "If all files are found, read them in as pandas dataframes:"
   ]
  },
  {
   "cell_type": "code",
   "execution_count": 6,
   "id": "9fe43c78-6ff0-4d6d-8a99-11de63258e33",
   "metadata": {},
   "outputs": [
    {
     "name": "stdout",
     "output_type": "stream",
     "text": [
      "dict_keys(['environment_events.csv', 'environment.csv', 'host_events.csv', 'hosts.csv'])\n"
     ]
    }
   ],
   "source": [
    "data = {}\n",
    "for f in files:\n",
    "    try:\n",
    "        data[f] = pd.read_csv(proj_data_path.joinpath(f), sep=';')\n",
    "    except pd.errors.EmptyDataError:\n",
    "        print(f\"File is empty: {f}\")\n",
    "assert list(data.keys()) == files # NOTE: environment_events\n",
    "print(data.keys())"
   ]
  },
  {
   "cell_type": "markdown",
   "id": "283342cc-cdec-42ad-8b8f-b33652c5d05c",
   "metadata": {},
   "source": [
    "## Check column names and each file"
   ]
  },
  {
   "cell_type": "markdown",
   "id": "d848836d-4628-4796-ab85-d2e6be8b1dcf",
   "metadata": {},
   "source": [
    "### Check individual files according to section in validation file"
   ]
  },
  {
   "cell_type": "code",
   "execution_count": 7,
   "id": "b43a63e2-d055-464d-bed3-10ccc0f7404a",
   "metadata": {},
   "outputs": [
    {
     "ename": "SyntaxError",
     "evalue": "f-string: unmatched '[' (validation_utils.py, line 27)",
     "output_type": "error",
     "traceback": [
      "Traceback \u001b[0;36m(most recent call last)\u001b[0m:\n",
      "  File \u001b[1;32m\"/usr/local/lib/python3.9/site-packages/IPython/core/interactiveshell.py\"\u001b[0m, line \u001b[1;32m3441\u001b[0m, in \u001b[1;35mrun_code\u001b[0m\n    exec(code_obj, self.user_global_ns, self.user_ns)\n",
      "\u001b[0;36m  File \u001b[0;32m\"/var/folders/53/8yzsjj591c57_n_l33h3f65m0000gn/T/ipykernel_3176/85631187.py\"\u001b[0;36m, line \u001b[0;32m1\u001b[0;36m, in \u001b[0;35m<module>\u001b[0;36m\u001b[0m\n\u001b[0;31m    from validation_utils import *\u001b[0m\n",
      "\u001b[0;36m  File \u001b[0;32m\"/Users/christine/git-repos/autumn-fair/src/validation_utils.py\"\u001b[0;36m, line \u001b[0;32m27\u001b[0m\n\u001b[0;31m    print(f\"{var_name} should be {validation[section][var_name][\"type\"]}\")\u001b[0m\n\u001b[0m                                                                 ^\u001b[0m\n\u001b[0;31mSyntaxError\u001b[0m\u001b[0;31m:\u001b[0m f-string: unmatched '['\n"
     ]
    }
   ],
   "source": [
    "from validation_utils import *"
   ]
  },
  {
   "cell_type": "code",
   "execution_count": null,
   "id": "ef9e2645-ad0e-4ff3-a851-6c792c4b5c4b",
   "metadata": {},
   "outputs": [],
   "source": [
    "check_column_exists(data, validation)"
   ]
  },
  {
   "cell_type": "code",
   "execution_count": null,
   "id": "e3ae9335-d544-4f36-96a2-c4f9f6b8bbde",
   "metadata": {},
   "outputs": [],
   "source": [
    "check_column_types(data, validation)"
   ]
  },
  {
   "cell_type": "markdown",
   "id": "f05c0842-52ba-4568-83e9-6c543abb3e8a",
   "metadata": {},
   "source": [
    "### Check that identifers `host_id` and `environment_id` are defined"
   ]
  },
  {
   "cell_type": "markdown",
   "id": "ed69e30b-f848-4d0c-8cae-7d22ca0d301f",
   "metadata": {},
   "source": [
    "### Are identifiers unique?"
   ]
  },
  {
   "cell_type": "code",
   "execution_count": null,
   "id": "42943b13-4b2f-4dc3-9065-fad287532098",
   "metadata": {},
   "outputs": [],
   "source": [
    "ids = {}\n",
    "\n",
    "ids[\"host_id\"] = data[\"hosts.csv\"][\"host_id\"].unique()\n",
    "if not len(ids[\"host_id\"]) == len(data[\"hosts.csv\"][\"host_id\"]):\n",
    "    print(\"hosts.csv: Column host_id contains duplicates.\")\n",
    "    assert False"
   ]
  },
  {
   "cell_type": "code",
   "execution_count": null,
   "id": "9d32e6a3-d588-4809-9330-bd811fc6cc44",
   "metadata": {},
   "outputs": [],
   "source": [
    "ids[\"environment_id\"] = data[\"environment.csv\"][\"environment_id\"].unique()\n",
    "if not len(ids[\"environment_id\"]) == len(data[\"environment.csv\"][\"environment_id\"]):\n",
    "    print(\"environment.csv: Column environment_id contains duplicates.\")\n",
    "    assert False"
   ]
  },
  {
   "cell_type": "markdown",
   "id": "4dd1fa05-d260-425a-b311-9c9afa439be6",
   "metadata": {},
   "source": [
    "### Are there None values in the identifier columns?"
   ]
  },
  {
   "cell_type": "code",
   "execution_count": null,
   "id": "b56b73a4-63e4-43dc-a744-c4c9cbc31b4e",
   "metadata": {},
   "outputs": [],
   "source": [
    "if sum(pd.isna(ids[\"host_id\"])):\n",
    "    print(f\"hosts.csv: There are {sum(pd.isna(ids['host_id']))} empty cells in host_id.\")"
   ]
  },
  {
   "cell_type": "code",
   "execution_count": null,
   "id": "f6df6a71-138c-461a-aead-8c2fd5a0c6b2",
   "metadata": {},
   "outputs": [],
   "source": [
    "if sum(pd.isna(ids[\"environment_id\"])):\n",
    "    print(f\"environment.csv: There are sum(pd.isna(ids['environment_id'])) empty cells in environment_id.\")"
   ]
  },
  {
   "cell_type": "markdown",
   "id": "392f8357-6065-4deb-b060-c419f9b2dd55",
   "metadata": {},
   "source": [
    "### Are all identifiers in the other csv files defined?"
   ]
  },
  {
   "cell_type": "code",
   "execution_count": null,
   "id": "feff4836-6a0f-4b17-93bb-fc7fbbca9c4f",
   "metadata": {},
   "outputs": [],
   "source": [
    "for id_type in ids:\n",
    "    for data_name in data:\n",
    "        if id_type in data[data_name].columns:\n",
    "            if not set(data[data_name][id_type]).issubset(ids[id_type]):\n",
    "                 print(f\"File {data_name} contains undefined ids in column {id_type}:\")\n",
    "                 print(set(data[data_name][id_type]).difference(ids[id_type]))"
   ]
  },
  {
   "cell_type": "markdown",
   "id": "90e3547a-273b-458e-b47d-049629e2a7db",
   "metadata": {},
   "source": [
    "## Depedencies between columns"
   ]
  },
  {
   "cell_type": "markdown",
   "id": "c9e43026-c1e6-4ab4-b515-dfbcc19303cf",
   "metadata": {},
   "source": [
    "*Parameters:*\n",
    "\n",
    "Columns that belong together, if one is set, the others also need to be set."
   ]
  },
  {
   "cell_type": "code",
   "execution_count": null,
   "id": "b0ecb7f5-ae24-4c84-be7a-48da4eacf737",
   "metadata": {},
   "outputs": [],
   "source": [
    "cols = {}\n",
    "cols[\"event\"] = [\"event_day\", \"event_time\", \"event_type\"]\n",
    "cols[\"measurement\"] = [\"measurement_type\", \"measurement_quantity\", \"measurement_unit\"]\n",
    "cols[\"inoculation\"] = [\"inoculation_type\", \"inoculation_pathogen\", \"inoculation_dose\", \"inoculation_unit\"]\n",
    "cols[\"treatment\"] = [\"treatment_type\", \"treatment_dose\", \"treatment_unit\"]"
   ]
  },
  {
   "cell_type": "markdown",
   "id": "5628c709-31dd-407a-bd68-9c5b6fa83d7d",
   "metadata": {},
   "source": [
    "### Check for None/NA values in cluster or columns"
   ]
  },
  {
   "cell_type": "code",
   "execution_count": null,
   "id": "e273f72c-d23d-4d05-b87b-ad29e5f7ea98",
   "metadata": {},
   "outputs": [],
   "source": [
    "for data_name in data:\n",
    "    result = check_column_clusters(cols, data[data_name])\n",
    "    if len(result) > 0:\n",
    "        print(f\"{data_name}: Invalid entries found:\")\n",
    "        for res in result:\n",
    "            df = data[data_name][res[1]]\n",
    "            print(f\"\\t Line {res[0]}: {df.iloc[[res[0]]]}\")"
   ]
  },
  {
   "cell_type": "markdown",
   "id": "3fd0eab6-d107-468e-ba39-96ab4a1599a7",
   "metadata": {},
   "source": [
    "## Dependencies between clusters of columns"
   ]
  },
  {
   "cell_type": "code",
   "execution_count": null,
   "id": "68c23436-1d76-4494-9951-824c05bb4c12",
   "metadata": {},
   "outputs": [],
   "source": [
    "for data_name in data:\n",
    "    if set(cols[\"event\"]).issubset(data[data_name].columns):\n",
    "        measure = set(cols[\"measurement\"]).issubset(data[data_name].columns)\n",
    "        inoc = set(cols[\"inoculation\"]).issubset(data[data_name].columns)\n",
    "        treat = set(cols[\"treatment\"]).issubset(data[data_name].columns)\n",
    "        if not (measure or inoc or treat):\n",
    "            print(f\"{data_name}: Need also information on either of measurement, incoulation or treatment\")"
   ]
  },
  {
   "cell_type": "code",
   "execution_count": null,
   "id": "6ba01ad6-5dbe-4a28-9765-98b47a837046",
   "metadata": {},
   "outputs": [],
   "source": []
  }
 ],
 "metadata": {
  "kernelspec": {
   "display_name": "Python 3 (ipykernel)",
   "language": "python",
   "name": "python3"
  },
  "language_info": {
   "codemirror_mode": {
    "name": "ipython",
    "version": 3
   },
   "file_extension": ".py",
   "mimetype": "text/x-python",
   "name": "python",
   "nbconvert_exporter": "python",
   "pygments_lexer": "ipython3",
   "version": "3.9.18"
  }
 },
 "nbformat": 4,
 "nbformat_minor": 5
}
