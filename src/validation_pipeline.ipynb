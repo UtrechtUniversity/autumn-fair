{
 "cells": [
  {
   "cell_type": "code",
   "execution_count": null,
   "id": "90c94976-cf1a-4e03-b98d-ea0785e495ee",
   "metadata": {},
   "outputs": [],
   "source": [
    "import toml\n",
    "import pandas as pd\n",
    "from pathlib import Path"
   ]
  },
  {
   "cell_type": "markdown",
   "id": "90009484-b061-4b10-832d-3d74b39de97a",
   "metadata": {},
   "source": [
    "# Data Validation"
   ]
  },
  {
   "cell_type": "markdown",
   "id": "ac314f96-91b4-40f4-9269-fd935d87b374",
   "metadata": {},
   "source": [
    "## The validation configuration"
   ]
  },
  {
   "cell_type": "markdown",
   "id": "6969895b-2e77-48e8-a5e0-4c0807cd9f50",
   "metadata": {},
   "source": [
    "*Parameters:*"
   ]
  },
  {
   "cell_type": "code",
   "execution_count": null,
   "id": "fb77baac-2822-49f3-90d2-fc567669cb28",
   "metadata": {},
   "outputs": [],
   "source": [
    "validation_path = Path.cwd().parent / \"data\" / \"metadata_test\" / \"_validation_schema_v2.toml\""
   ]
  },
  {
   "cell_type": "markdown",
   "id": "9dabe77e-1ec7-48ab-8e3a-5806bc9aed0a",
   "metadata": {},
   "source": [
    "*Code:*"
   ]
  },
  {
   "cell_type": "code",
   "execution_count": null,
   "id": "8445bf48-8cbe-4a22-83e5-085bed7f2bd0",
   "metadata": {},
   "outputs": [],
   "source": [
    "validation = toml.load(validation_path)\n",
    "validation"
   ]
  },
  {
   "cell_type": "markdown",
   "id": "7abf68c8-cd36-4063-870d-1ec9f0d6e07e",
   "metadata": {},
   "source": [
    "## Verify data structure in project folder"
   ]
  },
  {
   "cell_type": "markdown",
   "id": "55ca6632-e52c-43ab-9070-336cad4998d7",
   "metadata": {},
   "source": [
    "The project folder should have the follwing structure:\n",
    "\n",
    "├── data\n",
    "\n",
    "│ ├── environment.csv\n",
    "\n",
    "│ ├── environment_events.csv\n",
    "\n",
    "│ ├── hosts.csv\n",
    "\n",
    "│ └── host_events.csv"
   ]
  },
  {
   "cell_type": "markdown",
   "id": "cb5c4c57-1866-48f7-9cb4-8aed251496a4",
   "metadata": {},
   "source": [
    "*Parameters*"
   ]
  },
  {
   "cell_type": "code",
   "execution_count": null,
   "id": "a00ed1f5-061d-4732-b85e-830e7fc46899",
   "metadata": {},
   "outputs": [],
   "source": [
    "proj_data_path = Path.cwd().parent / \"data\" / \"synthetic_data\""
   ]
  },
  {
   "cell_type": "markdown",
   "id": "b2ba3d81-710f-4556-8a8a-3f09c15a1273",
   "metadata": {},
   "source": [
    "*Code*"
   ]
  },
  {
   "cell_type": "code",
   "execution_count": null,
   "id": "722e7a3c-2887-415d-9694-5837827ce333",
   "metadata": {},
   "outputs": [],
   "source": [
    "files = [f.name for f in proj_data_path.glob('**/*.csv') if f.is_file()]\n",
    "print(f\"Found files: {files}\")\n",
    "assert \"environment.csv\" in files\n",
    "assert \"environment_events.csv\" in files\n",
    "assert \"hosts.csv\" in files\n",
    "assert \"host_events.csv\" in files"
   ]
  },
  {
   "cell_type": "markdown",
   "id": "9331bd62-22e7-4b4a-ad45-d12ed587d87b",
   "metadata": {},
   "source": [
    "If all files are found, read them in as pandas dataframes:"
   ]
  },
  {
   "cell_type": "code",
   "execution_count": null,
   "id": "9fe43c78-6ff0-4d6d-8a99-11de63258e33",
   "metadata": {},
   "outputs": [],
   "source": [
    "data = {}\n",
    "for f in files:\n",
    "    try:\n",
    "        data[f] = pd.read_csv(proj_data_path.joinpath(f))\n",
    "    except pd.errors.EmptyDataError:\n",
    "        print(f\"File is empty: {f}\")\n",
    "assert list(data.keys()) == files\n",
    "print(data.keys())"
   ]
  },
  {
   "cell_type": "markdown",
   "id": "283342cc-cdec-42ad-8b8f-b33652c5d05c",
   "metadata": {},
   "source": [
    "## Check column names and each file\n",
    "### Functions"
   ]
  },
  {
   "cell_type": "markdown",
   "id": "36166c73-f261-452b-9135-dbcd72844aae",
   "metadata": {},
   "source": [
    "The function below defines when types in the data frame equal the definition in the validation file:"
   ]
  },
  {
   "cell_type": "code",
   "execution_count": null,
   "id": "5b11545b-8b32-459a-8821-8a75d3649472",
   "metadata": {},
   "outputs": [],
   "source": [
    "def type_is_equal(col_type: str, val_type: str) -> bool:\n",
    "    # string\n",
    "    if col_type == \"object\" and val_type == \"string\":\n",
    "        return True\n",
    "    # float\n",
    "    if col_type.startswith(\"float\") and val_type == \"float\":\n",
    "        return True\n",
    "    # integer\n",
    "    if col_type.startswith(\"int\") and val_type.startswith(\"int\"):\n",
    "        return True\n",
    "    return False"
   ]
  },
  {
   "cell_type": "markdown",
   "id": "bbd124cc-d427-401c-9bd3-a7b2c1019203",
   "metadata": {},
   "source": [
    "The following function walks over all columns in all csv files and checks their data type. It also notifies about columns that were not found but are defined in the validation file:"
   ]
  },
  {
   "cell_type": "code",
   "execution_count": null,
   "id": "e4822ac0-452f-4f3b-9287-1668999d87f4",
   "metadata": {},
   "outputs": [],
   "source": [
    "def check_column_types(data, validation):\n",
    "    for data_name in data:\n",
    "        if data_name == \"host_events.csv\":\n",
    "            section = \"events\"\n",
    "        else:\n",
    "            section = data_name.split(\".\")[0]\n",
    "        print(f\"Checking {data_name} against {section}:\")\n",
    "        for var_name in validation[section]:\n",
    "            if var_name in data[data_name].columns:\n",
    "                if not type_is_equal(str(data[data_name][var_name].dtype), validation[section][var_name][\"type\"]):\n",
    "                    print(f\"{var_name} should be {validation[section][var_name][\"type\"]}\")\n",
    "                    print(f\"\\t Found: {str(data[data_name][var_name].dtype)}\")\n",
    "    print(\"----\")"
   ]
  },
  {
   "cell_type": "markdown",
   "id": "ad60acb0-5b92-46f5-b310-50279f218468",
   "metadata": {},
   "source": [
    "The third function finds all columns which are mentioned in the validation file but cannot be found in the data:"
   ]
  },
  {
   "cell_type": "code",
   "execution_count": null,
   "id": "a5ddeedb-b5a2-4f00-af17-1495c314ffb7",
   "metadata": {},
   "outputs": [],
   "source": [
    "def check_column_exists(data, validation):\n",
    "    for data_name in data:\n",
    "        if data_name == \"host_events.csv\":\n",
    "            section = \"events\"\n",
    "        else:\n",
    "            section = data_name.split(\".\")[0]\n",
    "        for var_name in validation[section]:\n",
    "            if not var_name in data[data_name].columns:\n",
    "                print(f\"Column not found: {var_name}\")\n",
    "    print(\"----\")"
   ]
  },
  {
   "cell_type": "markdown",
   "id": "d848836d-4628-4796-ab85-d2e6be8b1dcf",
   "metadata": {},
   "source": [
    "### Check individual files according to section in validation file"
   ]
  },
  {
   "cell_type": "code",
   "execution_count": null,
   "id": "ef9e2645-ad0e-4ff3-a851-6c792c4b5c4b",
   "metadata": {},
   "outputs": [],
   "source": [
    "check_column_exists(data, validation)"
   ]
  },
  {
   "cell_type": "code",
   "execution_count": null,
   "id": "e3ae9335-d544-4f36-96a2-c4f9f6b8bbde",
   "metadata": {},
   "outputs": [],
   "source": [
    "check_column_types(data, validation)"
   ]
  },
  {
   "cell_type": "code",
   "execution_count": null,
   "id": "8a81bba9-af0d-4235-9c57-e8d0f713b701",
   "metadata": {},
   "outputs": [],
   "source": []
  }
 ],
 "metadata": {
  "kernelspec": {
   "display_name": "Python 3 (ipykernel)",
   "language": "python",
   "name": "python3"
  },
  "language_info": {
   "codemirror_mode": {
    "name": "ipython",
    "version": 3
   },
   "file_extension": ".py",
   "mimetype": "text/x-python",
   "name": "python",
   "nbconvert_exporter": "python",
   "pygments_lexer": "ipython3",
   "version": "3.12.4"
  }
 },
 "nbformat": 4,
 "nbformat_minor": 5
}
