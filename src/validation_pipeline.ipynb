{
 "cells": [
  {
   "cell_type": "code",
   "execution_count": 611,
   "id": "90c94976-cf1a-4e03-b98d-ea0785e495ee",
   "metadata": {},
   "outputs": [],
   "source": [
    "import tomllib\n",
    "import pandas as pd\n",
    "\n",
    "from pathlib import Path"
   ]
  },
  {
   "cell_type": "markdown",
   "id": "90009484-b061-4b10-832d-3d74b39de97a",
   "metadata": {},
   "source": [
    "# Data Validation"
   ]
  },
  {
   "cell_type": "markdown",
   "id": "ac314f96-91b4-40f4-9269-fd935d87b374",
   "metadata": {},
   "source": [
    "## The validation configuration"
   ]
  },
  {
   "cell_type": "markdown",
   "id": "6969895b-2e77-48e8-a5e0-4c0807cd9f50",
   "metadata": {},
   "source": [
    "*Parameters:*"
   ]
  },
  {
   "cell_type": "code",
   "execution_count": 616,
   "id": "fb77baac-2822-49f3-90d2-fc567669cb28",
   "metadata": {},
   "outputs": [],
   "source": [
    "validation_path = Path.cwd().parent / \"data\" / \"metadata_test\" / \"_validation_schema_v2.toml\""
   ]
  },
  {
   "cell_type": "markdown",
   "id": "9dabe77e-1ec7-48ab-8e3a-5806bc9aed0a",
   "metadata": {},
   "source": [
    "*Code:*"
   ]
  },
  {
   "cell_type": "code",
   "execution_count": 619,
   "id": "8445bf48-8cbe-4a22-83e5-085bed7f2bd0",
   "metadata": {},
   "outputs": [
    {
     "name": "stdout",
     "output_type": "stream",
     "text": [
      "\u001b[93mINFO reading validation file: C:\\Users\\lager008\\Documents\\GitHub\\autumn-fair\\data\\metadata_test\\_validation_schema_v2.toml.\u001b[0m\n"
     ]
    },
    {
     "data": {
      "text/plain": [
       "{'metadata_keys': ['type', 'format', 'values'],\n",
       " 'hosts': {'host_id': {'type': ['string', 'integer']},\n",
       "  'host_groupNumber': {'type': 'integer'},\n",
       "  'host_sex': {'type': 'string', 'format': 'A', 'values': ['M', 'F']},\n",
       "  'host_age': {'type': 'integer'},\n",
       "  'host_death': {'type': 'integer'},\n",
       "  'host_species': {'type': 'string'},\n",
       "  'host_breed': {'type': 'string'},\n",
       "  'host_age_unit': {'type': 'string',\n",
       "   'values': ['H', 'D', 'W', 'M', 'Y'],\n",
       "   'format': 'A'},\n",
       "  'host_round': {'type': 'integer'}},\n",
       " 'events': {'host_id': {'type': ['string', 'integer']},\n",
       "  'event_day': {'type': 'integer'},\n",
       "  'event_time': {'type': 'string', 'format': 'HH:MM'},\n",
       "  'event_type': {'type': 'string', 'values': ['M', 'I', 'T']},\n",
       "  'measurement_type': {'type': 'string'},\n",
       "  'measurement_quantity': {'type': 'float'},\n",
       "  'measurement_unit': {'type': 'string'},\n",
       "  'inoculation_type': {'type': 'string'},\n",
       "  'inoculation_pathogen': {'type': 'string'},\n",
       "  'inoculation_dose': {'type': 'float'},\n",
       "  'inoculation_unit': {'type': 'string'},\n",
       "  'treatment_type': {'type': 'string'},\n",
       "  'treatment_dose': {'type': 'float'},\n",
       "  'treatment_unit': {'type': 'string'},\n",
       "  'measurement_outcome': {'type': 'integer', 'values': [0, 1]},\n",
       "  'treatment_outcome': {'type': 'integer', 'values': ['0', '1']},\n",
       "  'inoculation_outcome': {'type': 'integer', 'values': [0, 1]}},\n",
       " 'environment': {'environment_level': {'type': 'integer', 'values': [1, 2, 3]},\n",
       "  'environment_id': {'type': ['string', 'integer'], 'format': 'A0_A0'},\n",
       "  'environment_parent': {'type': 'integer'},\n",
       "  'environment_host_round': {'type': 'integer'}},\n",
       " 'environment_events': {'host_id': {'type': ['string', 'integer']},\n",
       "  'environment_id': {'type': ['string', 'integer'], 'format': 'A0_A0'},\n",
       "  'event_type': {'type': 'string', 'values': ['M', 'A']},\n",
       "  'event_day': {'type': 'integer'},\n",
       "  'event_time': {'type': 'string', 'format': 'HH:MM'},\n",
       "  'measurement_type': {'type': 'string'},\n",
       "  'measurement_quantity': {'type': 'float'},\n",
       "  'measurement_unit': {'type': 'string'},\n",
       "  'measurement_outcome': {'type': 'integer', 'values': [0, 1]}},\n",
       " 'column_dependencies': {'event': ['event_day', 'event_time', 'event_type'],\n",
       "  'measurement': ['measurement_type',\n",
       "   'measurement_quantity',\n",
       "   'measurement_unit',\n",
       "   'measurement_outcome'],\n",
       "  'inoculation': ['inoculation_type',\n",
       "   'inoculation_pathogen',\n",
       "   'inoculation_dose',\n",
       "   'inoculation_unit',\n",
       "   'inoculation_outcome'],\n",
       "  'treatment': ['treatment_type',\n",
       "   'treatment_dose',\n",
       "   'treatment_unit',\n",
       "   'treatment_outcome']}}"
      ]
     },
     "execution_count": 619,
     "metadata": {},
     "output_type": "execute_result"
    }
   ],
   "source": [
    "from validate import read_toml\n",
    "validation = read_toml(validation_path)\n",
    "validation"
   ]
  },
  {
   "cell_type": "markdown",
   "id": "7abf68c8-cd36-4063-870d-1ec9f0d6e07e",
   "metadata": {},
   "source": [
    "## Verify data structure in project folder"
   ]
  },
  {
   "cell_type": "markdown",
   "id": "55ca6632-e52c-43ab-9070-336cad4998d7",
   "metadata": {},
   "source": [
    "The project folder should have the following structure:\n",
    "\n",
    "├── data\n",
    "\n",
    "│ ├── environment.csv\n",
    "\n",
    "│ ├── environment_events.csv\n",
    "\n",
    "│ ├── hosts.csv\n",
    "\n",
    "│ └── host_events.csv"
   ]
  },
  {
   "cell_type": "markdown",
   "id": "cb5c4c57-1866-48f7-9cb4-8aed251496a4",
   "metadata": {},
   "source": [
    "*Parameters*"
   ]
  },
  {
   "cell_type": "code",
   "execution_count": 624,
   "id": "a00ed1f5-061d-4732-b85e-830e7fc46899",
   "metadata": {},
   "outputs": [],
   "source": [
    "proj_data_path = Path.cwd().parent / \"data\" / \"synthetic_data_2\"\n",
    "sep = \",\"\n",
    "\n",
    "proj_data_path = Path.cwd().parent / \"data\" / \"example_study2\"\n",
    "sep = \";\""
   ]
  },
  {
   "cell_type": "markdown",
   "id": "b2ba3d81-710f-4556-8a8a-3f09c15a1273",
   "metadata": {},
   "source": [
    "*Code*"
   ]
  },
  {
   "cell_type": "code",
   "execution_count": 627,
   "id": "722e7a3c-2887-415d-9694-5837827ce333",
   "metadata": {},
   "outputs": [
    {
     "name": "stdout",
     "output_type": "stream",
     "text": [
      "dict_keys(['environment.csv', 'environment_events.csv', 'hosts.csv', 'host_events.csv'])\n"
     ]
    }
   ],
   "source": [
    "from validate import read_csv_files\n",
    "data = read_csv_files(proj_data_path, sep)\n",
    "print(data.keys())"
   ]
  },
  {
   "cell_type": "markdown",
   "id": "283342cc-cdec-42ad-8b8f-b33652c5d05c",
   "metadata": {},
   "source": [
    "## Check column names in each file"
   ]
  },
  {
   "cell_type": "code",
   "execution_count": 630,
   "id": "b43a63e2-d055-464d-bed3-10ccc0f7404a",
   "metadata": {},
   "outputs": [
    {
     "name": "stdout",
     "output_type": "stream",
     "text": [
      "Missing columns (file, column name):\n",
      " []\n"
     ]
    }
   ],
   "source": [
    "from validation_utils import check_column_exists\n",
    "result = check_column_exists(data, validation)\n",
    "print(f\"Missing columns (file, column name):\\n {result}\")"
   ]
  },
  {
   "cell_type": "markdown",
   "id": "3a8d2352-7b40-46ff-aa4a-560fc92f2e9b",
   "metadata": {},
   "source": [
    "## Find columns which are empty"
   ]
  },
  {
   "cell_type": "raw",
   "id": "e6906627-355c-496b-a3fd-852bab8e8078",
   "metadata": {},
   "source": [
    "# This check does not work on the inoculation type cells --> the check needs to be changed. "
   ]
  },
  {
   "cell_type": "code",
   "execution_count": 633,
   "id": "1cb39cc1-7148-45af-8f9a-b65b1e8078d6",
   "metadata": {},
   "outputs": [
    {
     "name": "stdout",
     "output_type": "stream",
     "text": [
      "Empty columns (file, column name):\n",
      " [('host_events.csv', 'inoculation_type'), ('host_events.csv', 'inoculation_pathogen'), ('host_events.csv', 'inoculation_dose'), ('host_events.csv', 'inoculation_unit'), ('host_events.csv', 'inoculation_outcome')]\n"
     ]
    }
   ],
   "source": [
    "from validation_utils import find_empty_columns\n",
    "result = find_empty_columns(data)\n",
    "print(f\"Empty columns (file, column name):\\n {result}\")"
   ]
  },
  {
   "cell_type": "markdown",
   "id": "95ead3f0-8ea6-475f-970e-ac394caacfee",
   "metadata": {},
   "source": [
    "## Check column types"
   ]
  },
  {
   "cell_type": "markdown",
   "id": "f8cb0392-78ea-45a9-9581-1a8f1d5f2e81",
   "metadata": {},
   "source": [
    "Check whether a column has the expected type(s) defined in the configuration file. "
   ]
  },
  {
   "cell_type": "code",
   "execution_count": 637,
   "id": "88fc6991-a18f-4569-94a1-16a81fa4360b",
   "metadata": {},
   "outputs": [
    {
     "name": "stdout",
     "output_type": "stream",
     "text": [
      "Column type check (file, column name, type, expected type):\n",
      " [('host_events.csv', 'inoculation_type', 'float64', 'string'), ('host_events.csv', 'inoculation_pathogen', 'float64', 'string'), ('host_events.csv', 'inoculation_unit', 'float64', 'string'), ('host_events.csv', 'measurement_outcome', 'float64', 'integer'), ('host_events.csv', 'treatment_outcome', 'float64', 'integer'), ('host_events.csv', 'inoculation_outcome', 'float64', 'integer')]\n"
     ]
    }
   ],
   "source": [
    "from validation_utils import check_column_types\n",
    "result = check_column_types(data, validation)\n",
    "print(f\"Column type check (file, column name, type, expected type):\\n {result}\")"
   ]
  },
  {
   "cell_type": "code",
   "execution_count": null,
   "id": "e24dab5a-76a6-489c-9fe7-8445ce642f96",
   "metadata": {},
   "outputs": [],
   "source": [
    "#### This check gives back that boolean values are float instead of integer. Plus there is still the problem about the \"missing\" inoculation values. "
   ]
  },
  {
   "cell_type": "markdown",
   "id": "12b92b62-ce98-4be6-b535-eaac5d6bb17c",
   "metadata": {},
   "source": [
    "## Columns with categorical values"
   ]
  },
  {
   "cell_type": "markdown",
   "id": "56de8bd4-bf45-4c94-8fe4-d93c36191271",
   "metadata": {},
   "source": [
    "The validation file also contains information on categorical values. Check if columns for which categorical values are defined really only contain those values."
   ]
  },
  {
   "cell_type": "code",
   "execution_count": 585,
   "id": "29d79c9b-0a84-4f86-8ce7-f6a4a52ed7c0",
   "metadata": {},
   "outputs": [
    {
     "name": "stdout",
     "output_type": "stream",
     "text": [
      "Undefined categorical values (file, column name, undefined values):\n",
      " [('host_events.csv', 'measurement_outcome', {nan}), ('host_events.csv', 'treatment_outcome', {0.0, nan}), ('host_events.csv', 'inoculation_outcome', {nan})]\n"
     ]
    }
   ],
   "source": [
    "from validation_utils import check_column_values\n",
    "result = check_column_values(data, validation)\n",
    "print(f\"Undefined categorical values (file, column name, undefined values):\\n {result}\")"
   ]
  },
  {
   "cell_type": "markdown",
   "id": "b0d04452-460d-4f82-a16f-0963f71ff399",
   "metadata": {},
   "source": [
    "## Identifier columns"
   ]
  },
  {
   "cell_type": "markdown",
   "id": "3b664d5f-33b4-4658-ab9b-3c6b32256f52",
   "metadata": {},
   "source": [
    "In the current set up we have two identifier columns which can occurr in all of the files:"
   ]
  },
  {
   "cell_type": "code",
   "execution_count": 589,
   "id": "672802ff-95d9-4f43-a12d-1d6c57ae3bf3",
   "metadata": {},
   "outputs": [],
   "source": [
    "ids = [\"host_id\", \"environment_id\"]"
   ]
  },
  {
   "cell_type": "markdown",
   "id": "965ad2e4-5d56-40f8-b07a-b61c6af53d1c",
   "metadata": {},
   "source": [
    "We expect those columns to **not contain any blank cells**.\n",
    "\n",
    "The values for the dientifiers are defined in the respcetive columns in *host.csv* and *environment.csv*. In those files the columns must conatin unique values, i.e. the length of the column is equal to the number of unique values found in the column.\n",
    "\n",
    "If the output of the cell below is `True`, then all checks have passed successfully."
   ]
  },
  {
   "cell_type": "code",
   "execution_count": 592,
   "id": "76fe8d8d-40ea-4f3f-9382-1082b52b8f18",
   "metadata": {},
   "outputs": [
    {
     "data": {
      "text/plain": [
       "True"
      ]
     },
     "execution_count": 592,
     "metadata": {},
     "output_type": "execute_result"
    }
   ],
   "source": [
    "from validation_utils import identifier_checks\n",
    "identifier_checks(data, ids)"
   ]
  },
  {
   "cell_type": "markdown",
   "id": "90e3547a-273b-458e-b47d-049629e2a7db",
   "metadata": {},
   "source": [
    "## Depedencies between columns"
   ]
  },
  {
   "cell_type": "markdown",
   "id": "c9e43026-c1e6-4ab4-b515-dfbcc19303cf",
   "metadata": {},
   "source": [
    "Some columns have dependencies between each other. E.g. if in a row a value is set in one columns, we also expect values in the other columns. Those *column dependencies* are defined in the respective section of the configuration file."
   ]
  },
  {
   "cell_type": "code",
   "execution_count": 596,
   "id": "b0ecb7f5-ae24-4c84-be7a-48da4eacf737",
   "metadata": {},
   "outputs": [
    {
     "data": {
      "text/plain": [
       "{'event': ['event_day', 'event_time', 'event_type'],\n",
       " 'measurement': ['measurement_type',\n",
       "  'measurement_quantity',\n",
       "  'measurement_unit',\n",
       "  'measurement_outcome'],\n",
       " 'inoculation': ['inoculation_type',\n",
       "  'inoculation_pathogen',\n",
       "  'inoculation_dose',\n",
       "  'inoculation_unit',\n",
       "  'inoculation_outcome'],\n",
       " 'treatment': ['treatment_type',\n",
       "  'treatment_dose',\n",
       "  'treatment_unit',\n",
       "  'treatment_outcome']}"
      ]
     },
     "execution_count": 596,
     "metadata": {},
     "output_type": "execute_result"
    }
   ],
   "source": [
    "validation[\"column_dependencies\"]"
   ]
  },
  {
   "cell_type": "markdown",
   "id": "05ce1b6b-179d-4048-8496-8f76e5afbe9a",
   "metadata": {},
   "source": [
    "### Check if columns of a cluster are present and contain values"
   ]
  },
  {
   "cell_type": "markdown",
   "id": "39135812-a108-486b-b767-8fb3eb1fd87e",
   "metadata": {},
   "source": [
    "The code below checks:\n",
    "When the columns defined in *event* are all present in the dataframe,\n",
    "then we also expect all columns of *measurement*, *inoculation* and *treatment*\n",
    "to be present in the same dataframe"
   ]
  },
  {
   "cell_type": "code",
   "execution_count": 600,
   "id": "61b6a5d4-4565-4aa5-84ee-6fef14a99dd4",
   "metadata": {},
   "outputs": [
    {
     "name": "stdout",
     "output_type": "stream",
     "text": [
      "['measurement', 'inoculation', 'treatment']\n"
     ]
    }
   ],
   "source": [
    "# Only for formatting out put\n",
    "dependency_names = list(validation[\"column_dependencies\"].keys())[1:]\n",
    "print(dependency_names)"
   ]
  },
  {
   "cell_type": "code",
   "execution_count": 602,
   "id": "103f8305-9120-40cc-91ce-1f778039aa97",
   "metadata": {},
   "outputs": [
    {
     "name": "stdout",
     "output_type": "stream",
     "text": [
      "environment_events.csv: Need also information on ['inoculation', 'treatment']\n"
     ]
    },
    {
     "data": {
      "text/plain": [
       "Index(['host_id', 'event_day', 'event_time', 'event_type', 'measurement_type',\n",
       "       'measurement_quantity', 'measurement_outcome', 'measurement_unit',\n",
       "       'inoculation_type', 'inoculation_pathogen', 'inoculation_dose',\n",
       "       'inoculation_unit', 'inoculation_outcome', 'treatment_type',\n",
       "       'treatment_dose', 'treatment_unit', 'treatment_outcome'],\n",
       "      dtype='object')"
      ]
     },
     "execution_count": 602,
     "metadata": {},
     "output_type": "execute_result"
    }
   ],
   "source": [
    "for data_name, df in data.items():\n",
    "    if set(validation[\"column_dependencies\"][\"event\"]).issubset(df.columns):\n",
    "        measure = set(validation[\"column_dependencies\"][\"measurement\"]).issubset(df.columns)\n",
    "        inoc = set(validation[\"column_dependencies\"][\"inoculation\"]).issubset(df.columns)\n",
    "        treat = set(validation[\"column_dependencies\"][\"treatment\"]).issubset(df.columns)\n",
    "        res = [i for i, val in enumerate([measure, inoc, treat]) if not val]\n",
    "        if len(res) > 0:\n",
    "            missing_cols = [dependency_names[idx] for idx in res]\n",
    "            print(f\"{data_name}: Need also information on {missing_cols}\")\n",
    "data.items()\n",
    "df.columns"
   ]
  },
  {
   "cell_type": "markdown",
   "id": "32d39fe0-3121-48b0-b1e6-5bfc4a5e1960",
   "metadata": {},
   "source": [
    "### The check above is correct for the \"host_event.csv\" however in the \"environment_event.csv\" there are also columns on measurement. \n",
    "### Hence the check is needed for the first file but not for the second one. We have the change this check.  "
   ]
  },
  {
   "cell_type": "code",
   "execution_count": null,
   "id": "ab67506e-5aec-48cf-8a67-2af60de6fd36",
   "metadata": {},
   "outputs": [],
   "source": []
  },
  {
   "cell_type": "markdown",
   "id": "69bd4c00-6a4c-4ff1-b01e-ea65839dc324",
   "metadata": {},
   "source": [
    "### Check values in a cluster of columns"
   ]
  },
  {
   "cell_type": "markdown",
   "id": "88803085-b09f-4af5-aeaa-863a3390c096",
   "metadata": {},
   "source": [
    "For each of the set of columns defined in the *dependencies* we assume that they are all empty per row or they all carry a value."
   ]
  },
  {
   "cell_type": "code",
   "execution_count": 607,
   "id": "56365325-3441-4204-b0e5-2d2dd0ffc499",
   "metadata": {},
   "outputs": [],
   "source": [
    "from validation_utils import check_column_clusters\n",
    "for data_name, df in data.items():\n",
    "    result = check_column_clusters(validation[\"column_dependencies\"], df)\n",
    "    if len(result) > 0:\n",
    "        print(f\"Missing values in {data_name}:\")\n",
    "        print(f\"Row index, column name:\\n {result}\")"
   ]
  },
  {
   "cell_type": "code",
   "execution_count": null,
   "id": "93ab9acb-f14b-4953-80ed-ec793351408e",
   "metadata": {},
   "outputs": [],
   "source": []
  },
  {
   "cell_type": "code",
   "execution_count": null,
   "id": "11577bda-904d-4261-a861-45e52ca20684",
   "metadata": {},
   "outputs": [],
   "source": []
  },
  {
   "cell_type": "code",
   "execution_count": null,
   "id": "0d46e519-157a-49f4-9f5e-643943e18cae",
   "metadata": {},
   "outputs": [],
   "source": []
  }
 ],
 "metadata": {
  "kernelspec": {
   "display_name": "Python 3 (ipykernel)",
   "language": "python",
   "name": "python3"
  },
  "language_info": {
   "codemirror_mode": {
    "name": "ipython",
    "version": 3
   },
   "file_extension": ".py",
   "mimetype": "text/x-python",
   "name": "python",
   "nbconvert_exporter": "python",
   "pygments_lexer": "ipython3",
   "version": "3.11.7"
  }
 },
 "nbformat": 4,
 "nbformat_minor": 5
}
