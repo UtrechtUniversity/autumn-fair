{
 "cells": [
  {
   "cell_type": "code",
   "execution_count": 2,
   "id": "90c94976-cf1a-4e03-b98d-ea0785e495ee",
   "metadata": {},
   "outputs": [],
   "source": [
    "import toml\n",
    "import pandas as pd\n",
    "from pathlib import Path"
   ]
  },
  {
   "cell_type": "markdown",
   "id": "90009484-b061-4b10-832d-3d74b39de97a",
   "metadata": {},
   "source": [
    "# Data Validation"
   ]
  },
  {
   "cell_type": "markdown",
   "id": "ac314f96-91b4-40f4-9269-fd935d87b374",
   "metadata": {},
   "source": [
    "## The validation configuration"
   ]
  },
  {
   "cell_type": "markdown",
   "id": "6969895b-2e77-48e8-a5e0-4c0807cd9f50",
   "metadata": {},
   "source": [
    "*Parameters:*"
   ]
  },
  {
   "cell_type": "code",
   "execution_count": 3,
   "id": "fb77baac-2822-49f3-90d2-fc567669cb28",
   "metadata": {},
   "outputs": [],
   "source": [
    "validation_path = Path.cwd().parent / \"data\" / \"metadata_test\" / \"_validation_schema_v2.toml\""
   ]
  },
  {
   "cell_type": "markdown",
   "id": "9dabe77e-1ec7-48ab-8e3a-5806bc9aed0a",
   "metadata": {},
   "source": [
    "*Code:*"
   ]
  },
  {
   "cell_type": "code",
   "execution_count": 4,
   "id": "8445bf48-8cbe-4a22-83e5-085bed7f2bd0",
   "metadata": {},
   "outputs": [
    {
     "data": {
      "text/plain": [
       "{'metadata_keys': ['type', 'format', 'values'],\n",
       " 'hosts': {'host_id': {'type': 'string', 'format': 'AA0_00000'},\n",
       "  'host_groupNumber': {'type': 'integer'},\n",
       "  'host_sex': {'type': 'string', 'format': 'A', 'values': ['M', 'F']},\n",
       "  'host_age': {'type': 'integer'},\n",
       "  'host_death': {'type': 'integer'},\n",
       "  'host_species': {'type': 'string'},\n",
       "  'host_breed': {'type': 'string'}},\n",
       " 'events': {'host_id': {'type': 'string', 'format': 'AA0_00000'},\n",
       "  'event_day': {'type': 'integer'},\n",
       "  'event_time': {'type': 'string', 'format': 'HH:MM'},\n",
       "  'event_type': {'type': 'string',\n",
       "   'values': ['measurement', 'inoculation', 'treatment']},\n",
       "  'measurement_type': {'type': 'string'},\n",
       "  'measurement_quantity': {'type': 'float'},\n",
       "  'measurement_unit': {'type': 'string'},\n",
       "  'inoculation_type': {'type': 'string'},\n",
       "  'inoculation_pathogen': {'type': 'string'},\n",
       "  'inoculation_dose': {'type': 'float'},\n",
       "  'inoculation_unit': {'type': 'string'},\n",
       "  'treatment_type': {'type': 'string'},\n",
       "  'treatment_dose': {'type': 'float'},\n",
       "  'treatment_unit': {'type': 'string'}},\n",
       " 'environment': {'environment_level': {'type': 'integer',\n",
       "   'values': ['1', '2', '3']},\n",
       "  'environment_id': {'type': 'string', 'format': 'A0_A0'}},\n",
       " 'environment_events': {'host_id': {'type': 'string', 'format': 'AA0_00000'},\n",
       "  'environment_id': {'type': 'string', 'format': 'A0_A0'},\n",
       "  'event_type': {'type': 'string', 'values': ['measurement', 'allocation']},\n",
       "  'event_day': {'type': 'integer'},\n",
       "  'event_time': {'type': 'string', 'format': 'HH:MM'},\n",
       "  'measurement_type': {'type': 'string'},\n",
       "  'measurement_quantity': {'type': 'float'},\n",
       "  'measurement_unit': {'type': 'string'}}}"
      ]
     },
     "execution_count": 4,
     "metadata": {},
     "output_type": "execute_result"
    }
   ],
   "source": [
    "validation = toml.load(validation_path)\n",
    "validation"
   ]
  },
  {
   "cell_type": "markdown",
   "id": "7abf68c8-cd36-4063-870d-1ec9f0d6e07e",
   "metadata": {},
   "source": [
    "## Verify data structure in project folder"
   ]
  },
  {
   "cell_type": "markdown",
   "id": "55ca6632-e52c-43ab-9070-336cad4998d7",
   "metadata": {},
   "source": [
    "The project folder should have the follwing structure:\n",
    "\n",
    "├── data\n",
    "\n",
    "│ ├── environment.csv\n",
    "\n",
    "│ ├── environment_events.csv\n",
    "\n",
    "│ ├── hosts.csv\n",
    "\n",
    "│ └── host_events.csv"
   ]
  },
  {
   "cell_type": "markdown",
   "id": "cb5c4c57-1866-48f7-9cb4-8aed251496a4",
   "metadata": {},
   "source": [
    "*Parameters*"
   ]
  },
  {
   "cell_type": "code",
   "execution_count": 5,
   "id": "a00ed1f5-061d-4732-b85e-830e7fc46899",
   "metadata": {},
   "outputs": [],
   "source": [
    "proj_data_path = Path.cwd().parent / \"data\" / \"synthetic_data\""
   ]
  },
  {
   "cell_type": "markdown",
   "id": "b2ba3d81-710f-4556-8a8a-3f09c15a1273",
   "metadata": {},
   "source": [
    "*Code*"
   ]
  },
  {
   "cell_type": "code",
   "execution_count": 77,
   "id": "722e7a3c-2887-415d-9694-5837827ce333",
   "metadata": {},
   "outputs": [
    {
     "name": "stdout",
     "output_type": "stream",
     "text": [
      "Found files: ['environment_events.csv', 'environment.csv', 'host_events.csv', 'hosts.csv']\n"
     ]
    }
   ],
   "source": [
    "files = [f.name for f in proj_data_path.glob('**/*.csv') if f.is_file()]\n",
    "files = [f for f in files if f in ['environment_events.csv', 'environment.csv', 'host_events.csv', 'hosts.csv']]\n",
    "assert \"environment.csv\" in files\n",
    "assert \"environment_events.csv\" in files\n",
    "assert \"hosts.csv\" in files\n",
    "assert \"host_events.csv\" in files\n",
    "print(f\"Found files: {files}\")"
   ]
  },
  {
   "cell_type": "markdown",
   "id": "9331bd62-22e7-4b4a-ad45-d12ed587d87b",
   "metadata": {},
   "source": [
    "If all files are found, read them in as pandas dataframes:"
   ]
  },
  {
   "cell_type": "code",
   "execution_count": 85,
   "id": "9fe43c78-6ff0-4d6d-8a99-11de63258e33",
   "metadata": {},
   "outputs": [
    {
     "name": "stdout",
     "output_type": "stream",
     "text": [
      "dict_keys(['environment_events.csv', 'environment.csv', 'host_events.csv', 'hosts.csv'])\n"
     ]
    }
   ],
   "source": [
    "data = {}\n",
    "for f in files:\n",
    "    try:\n",
    "        data[f] = pd.read_csv(proj_data_path.joinpath(f))\n",
    "    except pd.errors.EmptyDataError:\n",
    "        print(f\"File is empty: {f}\")\n",
    "assert list(data.keys()) == files # NOTE: environment_events\n",
    "print(data.keys())"
   ]
  },
  {
   "cell_type": "markdown",
   "id": "283342cc-cdec-42ad-8b8f-b33652c5d05c",
   "metadata": {},
   "source": [
    "## Check column names and each file\n",
    "### Functions"
   ]
  },
  {
   "cell_type": "markdown",
   "id": "36166c73-f261-452b-9135-dbcd72844aae",
   "metadata": {},
   "source": [
    "The function below defines when types in the data frame equal the definition in the validation file:"
   ]
  },
  {
   "cell_type": "code",
   "execution_count": 79,
   "id": "5b11545b-8b32-459a-8821-8a75d3649472",
   "metadata": {},
   "outputs": [],
   "source": [
    "def type_is_equal(col_type: str, val_type: str) -> bool:\n",
    "    # string\n",
    "    if col_type == \"object\" and val_type == \"string\":\n",
    "        return True\n",
    "    # float\n",
    "    if col_type.startswith(\"float\") and val_type == \"float\":\n",
    "        return True\n",
    "    # integer\n",
    "    if col_type.startswith(\"int\") and val_type.startswith(\"int\"):\n",
    "        return True\n",
    "    return False"
   ]
  },
  {
   "cell_type": "markdown",
   "id": "bbd124cc-d427-401c-9bd3-a7b2c1019203",
   "metadata": {},
   "source": [
    "The following function walks over all columns in all csv files and checks their data type. It also notifies about columns that were not found but are defined in the validation file:"
   ]
  },
  {
   "cell_type": "code",
   "execution_count": 80,
   "id": "e4822ac0-452f-4f3b-9287-1668999d87f4",
   "metadata": {},
   "outputs": [],
   "source": [
    "def check_column_types(data, validation):\n",
    "    for data_name in data:\n",
    "        if data_name == \"host_events.csv\":\n",
    "            section = \"events\"\n",
    "        else:\n",
    "            section = data_name.split(\".\")[0]\n",
    "        print(f\"Checking {data_name} against {section}:\")\n",
    "        for var_name in validation[section]:\n",
    "            if var_name in data[data_name].columns:\n",
    "                if not type_is_equal(str(data[data_name][var_name].dtype), validation[section][var_name][\"type\"]):\n",
    "                    print(f\"{var_name} should be {validation[section][var_name][\"type\"]}\")\n",
    "                    print(f\"\\t Found: {str(data[data_name][var_name].dtype)}\")\n",
    "    print(\"----\")"
   ]
  },
  {
   "cell_type": "markdown",
   "id": "ad60acb0-5b92-46f5-b310-50279f218468",
   "metadata": {},
   "source": [
    "The third function finds all columns which are mentioned in the validation file but cannot be found in the data:"
   ]
  },
  {
   "cell_type": "code",
   "execution_count": 83,
   "id": "a5ddeedb-b5a2-4f00-af17-1495c314ffb7",
   "metadata": {},
   "outputs": [],
   "source": [
    "def check_column_exists(data, validation):\n",
    "    for data_name in data:\n",
    "        if data_name == \"host_events.csv\":\n",
    "            section = \"events\"\n",
    "        else:\n",
    "            section = data_name.split(\".\")[0]\n",
    "        for var_name in validation[section]:\n",
    "            if not var_name in data[data_name].columns:\n",
    "                print(f\"{data_name}; Column not found: {var_name}\")\n",
    "    print(\"----\")"
   ]
  },
  {
   "cell_type": "markdown",
   "id": "d848836d-4628-4796-ab85-d2e6be8b1dcf",
   "metadata": {},
   "source": [
    "### Check individual files according to section in validation file"
   ]
  },
  {
   "cell_type": "code",
   "execution_count": 86,
   "id": "ef9e2645-ad0e-4ff3-a851-6c792c4b5c4b",
   "metadata": {},
   "outputs": [
    {
     "name": "stdout",
     "output_type": "stream",
     "text": [
      "----\n"
     ]
    }
   ],
   "source": [
    "check_column_exists(data, validation)"
   ]
  },
  {
   "cell_type": "code",
   "execution_count": 87,
   "id": "e3ae9335-d544-4f36-96a2-c4f9f6b8bbde",
   "metadata": {},
   "outputs": [
    {
     "name": "stdout",
     "output_type": "stream",
     "text": [
      "Checking environment_events.csv against environment_events:\n",
      "Checking environment.csv against environment:\n",
      "Checking host_events.csv against events:\n",
      "event_day should be integer\n",
      "\t Found: float64\n",
      "treatment_unit should be string\n",
      "\t Found: float64\n",
      "Checking hosts.csv against hosts:\n",
      "----\n"
     ]
    }
   ],
   "source": [
    "check_column_types(data, validation)"
   ]
  },
  {
   "cell_type": "markdown",
   "id": "f05c0842-52ba-4568-83e9-6c543abb3e8a",
   "metadata": {},
   "source": [
    "### Check that identifers `host_id` and `environment_id` are defined"
   ]
  },
  {
   "cell_type": "markdown",
   "id": "ed69e30b-f848-4d0c-8cae-7d22ca0d301f",
   "metadata": {},
   "source": [
    "### Are identifiers unique?"
   ]
  },
  {
   "cell_type": "code",
   "execution_count": 8,
   "id": "42943b13-4b2f-4dc3-9065-fad287532098",
   "metadata": {},
   "outputs": [],
   "source": [
    "ids = {}\n",
    "\n",
    "ids[\"host_id\"] = data[\"hosts.csv\"][\"host_id\"].unique()\n",
    "if not len(ids[\"host_id\"]) == len(data[\"hosts.csv\"][\"host_id\"]):\n",
    "    print(\"hosts.csv: Column host_id contains duplicates.\")\n",
    "    assert False"
   ]
  },
  {
   "cell_type": "code",
   "execution_count": 15,
   "id": "9d32e6a3-d588-4809-9330-bd811fc6cc44",
   "metadata": {},
   "outputs": [],
   "source": [
    "ids[\"environment_id\"] = data[\"environment.csv\"][\"environment_id\"].unique()\n",
    "if not len(ids[\"environment_id\"]) == len(data[\"environment.csv\"][\"environment_id\"]):\n",
    "    print(\"environment.csv: Column environment_id contains duplicates.\")\n",
    "    assert False"
   ]
  },
  {
   "cell_type": "markdown",
   "id": "4dd1fa05-d260-425a-b311-9c9afa439be6",
   "metadata": {},
   "source": [
    "### Are there None values in the identifier columns?"
   ]
  },
  {
   "cell_type": "code",
   "execution_count": 13,
   "id": "b56b73a4-63e4-43dc-a744-c4c9cbc31b4e",
   "metadata": {},
   "outputs": [
    {
     "name": "stdout",
     "output_type": "stream",
     "text": [
      "hosts.csv: There are 1 empty cells in host_id.\n"
     ]
    }
   ],
   "source": [
    "if sum(pd.isna(ids[\"host_id\"])):\n",
    "    print(f\"hosts.csv: There are {sum(pd.isna(ids['host_id']))} empty cells in host_id.\")"
   ]
  },
  {
   "cell_type": "code",
   "execution_count": 17,
   "id": "f6df6a71-138c-461a-aead-8c2fd5a0c6b2",
   "metadata": {},
   "outputs": [],
   "source": [
    "if sum(pd.isna(ids[\"environment_id\"])):\n",
    "    print(f\"environment.csv: There are sum(pd.isna(ids['environment_id'])) empty cells in environment_id.\")"
   ]
  },
  {
   "cell_type": "markdown",
   "id": "392f8357-6065-4deb-b060-c419f9b2dd55",
   "metadata": {},
   "source": [
    "### Are all identifiers in the other csv files defined?"
   ]
  },
  {
   "cell_type": "code",
   "execution_count": 88,
   "id": "feff4836-6a0f-4b17-93bb-fc7fbbca9c4f",
   "metadata": {},
   "outputs": [
    {
     "name": "stdout",
     "output_type": "stream",
     "text": [
      "File environment_events.csv contains undefined ids in column host_id:\n",
      "{'tB5', 'iG2', 'aI5', 'qE1', 'cZ3', 'lJ8', 'yF4', 'xL4', 'iZ9', 'iW3', 'cM9', 'iW1', 'mN5', 'lI2', 'hH9', 'bX7', 'eB2', 'gT8', 'tB2', 'xG1', 'oU1', 'gM8', 'vH4', 'lD2', 'xD2', 'dZ8', 'gD1', 'lP5', 'xK5', 'eA2', 'xW8', 'hC2', 'iM3', 'mH1', 'vK3', 'yZ5', 'hG4', 'pX3', 'qX3', 'fB3', 'sQ9', 'cV6', 'wF0', 'eB9', 'kB0', 'dB4', 'sA5', 'eQ0', 'eK8', 'yL4', 'gZ4', 'yN7', 'bI0', 'hE4', 'dJ8', 'bH2', 'iR5', 'gC7', 'zT4', 'rA3', 'rD6', 'sG1', 'cP1', 'oO2', 'uP0', 'fA7', 'bE4', 'uF5', 'oL5', 'cF6', 'uA2', 'mF9', 'oN2', 'tN6', 'hW5', 'bE5', 'oI4', 'vF8', 'wX3', 'jF8', 'oJ0', 'zV9', 'uQ5', 'aF1', 'gI4', 'dX7', 'mU8', 'bU5', 'qM7', 'uA1', 'pR0', 'vF9', 'xH7', 'uP4', 'eQ5', 'xP9', 'gA8', 'hD8', 'wL3', 'nQ8'}\n",
      "File host_events.csv contains undefined ids in column host_id:\n",
      "{'pS7', 'zS6', 'vT4', 'jX6', 'zM4', 'aY6', 'cN7', 'bK0', 'uL0', 'sU0', 'oX3', 'lD9', 'cU5', 'aD7', 'sP4', 'lI7', 'jQ9', 'oH0', 'hH8', 'nL2', 'aH4', 'tX6', 'sK2', 'sI0', 'iU8', 'yJ0', 'kC8', 'oN5', 'hP7', 'nH2', 'dH2', 'iF3', 'hY5', 'wM3', 'nD1', 'hF1', 'hQ7', 'pO9', 'fX2', 'vJ8', 'vU8', 'dT0', 'aY5', 'wM5', 'lI1', 'oW5', 'aT9', 'rS8', 'eZ7', 'vP8', 'rN2', 'mM3', 'tN4', 'qU7', 'aF9', 'hV6', 'wZ5', 'xK2', 'wF9', 'uG3', 'wR7', 'xX8', 'jW6', 'qG5', 'cP4', 'pN2', 'bH3', 'gF1', 'qD9', 'gV9', 'lF5', 'yF0', 'bL5', 'gM3', 'oP4', 'kK6', 'iF0', 'iJ1', 'bX6', 'xZ7', 'kO5', 'rS9', 'zF3', 'yO8', 'yN5', 'zD5', 'wP3', 'rJ0', 'xI4', 'mP5', 'lB6', 'vF4', 'yO2', 'gU0', 'sW8', 'sG0', 'lC2', 'rQ2', 'oV2', 'fO0'}\n",
      "File hosts.csv contains undefined ids in column host_id:\n",
      "{'47', '16', '55', '77', '96', '17', 'iW3', '79', '18', '43', '54', '31', '99', '40', '5', '0', '75', '32', '72', '41', '71', '53', '48', '85', '30', '2', '4', '69', '64', '98', '37', '94', '67', '33', '92', '21', '90', '57', '70', '62', '12', '52', '73', '1', '6', '28', '20', '91', '74', '19', '24', '25', '89', '80', '26', '60', '83', '76', '23', '35', '46', '87', '68', '93', '3', '58', '36', '82', '63', '49', '34', '59', '14', '38', '9', '11', '27', '44', '42', '78', '84', '39', '65', '10', '22', '97', '95', '50', '7', '56', '66', '29', '51', '81', '86', '8', '88', '15', '45', '61'}\n",
      "File environment_events.csv contains undefined ids in column environment_id:\n",
      "{'eE7', 'aX8', 'pW1', 'bU2', 'pH3', 'sW4', 'yH0', 'eA1', 'hM9', 'cB4', 'sT7', 'kH6', 'cW1', 'rD7', 'xL7', 'lK1', 'nK7', 'dJ1', 'lZ3', 'yO5', 'iP7', 'yJ0', 'rA0', 'kG2', 'jL8', 'rM5', 'gS7', 'nQ2', 'hA7', 'wD4', 'aE0', 'wM2', 'vH1', 'vF6', 'cM2', 'jJ4', 'iN6', 'iT6', 'pG3', 'hV2', 'jN1', 'lL8', 'rI6', 'xS2', 'vD2', 'cY5', 'mH5', 'rO1', 'rN7', 'yH4', 'fM1', 'xP3', 'lR8', 'sB2', 'lS9', 'sG7', 'pR8', 'qI0', 'lF5', 'pV1', 'aM1', 'jY3', 'jM7', 'qJ1', 'zG7', 'bK4', 'pD6', 'vU6', 'gI4', 'eZ5', 'dW2', 'xV9', 'uG1', 'zF3', 'cJ4', 'oX9', 'kJ6', 'sP7', 'qK7', 'bY4', 'kW2', 'zB1', 'lI3', 'jZ6', 'oI2', 'cA8', 'dQ9', 'qI2', 'fV7', 'uI4', 'fT5', 'yL9', 'lW2', 'oB6', 'qX8', 'lG6', 'cW0'}\n"
     ]
    }
   ],
   "source": [
    "for id_type in ids:\n",
    "    for data_name in data:\n",
    "        if id_type in data[data_name].columns:\n",
    "            if not set(data[data_name][id_type]).issubset(ids[id_type]):\n",
    "                 print(f\"File {data_name} contains undefined ids in column {id_type}:\")\n",
    "                 print(set(data[data_name][id_type]).difference(ids[id_type]))"
   ]
  },
  {
   "cell_type": "markdown",
   "id": "90e3547a-273b-458e-b47d-049629e2a7db",
   "metadata": {},
   "source": [
    "## Depedencies between columns"
   ]
  },
  {
   "cell_type": "markdown",
   "id": "c9e43026-c1e6-4ab4-b515-dfbcc19303cf",
   "metadata": {},
   "source": [
    "*Parameters:*\n",
    "\n",
    "Columns that belong together, if one is set, the others also need to be set."
   ]
  },
  {
   "cell_type": "code",
   "execution_count": 121,
   "id": "b0ecb7f5-ae24-4c84-be7a-48da4eacf737",
   "metadata": {},
   "outputs": [],
   "source": [
    "cols = {}\n",
    "cols[\"event\"] = [\"event_day\", \"event_time\", \"event_type\"]\n",
    "cols[\"measurement\"] = [\"measurement_type\", \"measurement_quantity\", \"measurement_unit\"]\n",
    "cols[\"inoculation\"] = [\"inoculation_type\", \"inoculation_pathogen\", \"inoculation_dose\", \"inoculation_unit\"]\n",
    "cols[\"treatment\"] = [\"treatment_type\", \"treatment_dose\", \"treatment_unit\"]"
   ]
  },
  {
   "cell_type": "markdown",
   "id": "16f38812-7de7-4062-bf8c-6b5118fa2a69",
   "metadata": {},
   "source": [
    "*Function:*"
   ]
  },
  {
   "cell_type": "code",
   "execution_count": 122,
   "id": "2b85730a-82a6-482e-a7cb-55e267c9a9ca",
   "metadata": {},
   "outputs": [],
   "source": [
    "def check_column_clusters(cols: dict, data_frame: pd.DataFrame):\n",
    "    \"\"\"Check if rows of cluster columns are defined, return row and col names if not.\"\"\"\n",
    "    result = []\n",
    "    for items in cols.values():\n",
    "        if set(items).issubset(data_frame.columns):\n",
    "            df = data_frame[items]\n",
    "            df_na = df[df.isna().any(axis=1)]\n",
    "            for index, row in df_na.iterrows():\n",
    "                if not pd.isna(row).all():\n",
    "                    result.append((index, items))\n",
    "    return result"
   ]
  },
  {
   "cell_type": "markdown",
   "id": "5628c709-31dd-407a-bd68-9c5b6fa83d7d",
   "metadata": {},
   "source": [
    "### Check for None/NA values in cluster od columns"
   ]
  },
  {
   "cell_type": "code",
   "execution_count": 152,
   "id": "e273f72c-d23d-4d05-b87b-ad29e5f7ea98",
   "metadata": {},
   "outputs": [
    {
     "name": "stdout",
     "output_type": "stream",
     "text": [
      "host_events.csv: Invalid entries found:\n",
      "\t Line 27:     event_day event_time event_type\n",
      "27        NaN      23:29  treatment\n",
      "\t Line 32:     event_day event_time   event_type\n",
      "32       17.0        NaN  measurement\n",
      "\t Line 0:   treatment_type  treatment_dose  treatment_unit\n",
      "0  Steven Carter       13.373607             NaN\n",
      "\t Line 1:   treatment_type  treatment_dose  treatment_unit\n",
      "1   David Zamora        6.317515             NaN\n",
      "\t Line 2:   treatment_type  treatment_dose  treatment_unit\n",
      "2    Maria Gomez         1.48431             NaN\n",
      "\t Line 3:   treatment_type  treatment_dose  treatment_unit\n",
      "3    David James        8.969873             NaN\n",
      "\t Line 4:    treatment_type  treatment_dose  treatment_unit\n",
      "4  Jennifer Allen        3.441852             NaN\n",
      "\t Line 5:   treatment_type  treatment_dose  treatment_unit\n",
      "5  Amanda Bailey        5.075894             NaN\n",
      "\t Line 6:   treatment_type  treatment_dose  treatment_unit\n",
      "6   Joshua Rocha        8.286864             NaN\n",
      "\t Line 7:   treatment_type  treatment_dose  treatment_unit\n",
      "7  Timothy Roach       10.536488             NaN\n",
      "\t Line 8:   treatment_type  treatment_dose  treatment_unit\n",
      "8   Rachel Cohen        9.077597             NaN\n",
      "\t Line 9:     treatment_type  treatment_dose  treatment_unit\n",
      "9  Robert Marshall       12.198685             NaN\n",
      "\t Line 10:    treatment_type  treatment_dose  treatment_unit\n",
      "10  Kristin Lopez        5.171391             NaN\n",
      "\t Line 11:    treatment_type  treatment_dose  treatment_unit\n",
      "11    James Moody        13.40977             NaN\n",
      "\t Line 12:    treatment_type  treatment_dose  treatment_unit\n",
      "12   Alyssa White        2.599107             NaN\n",
      "\t Line 13:    treatment_type  treatment_dose  treatment_unit\n",
      "13   Amber Hansen       13.244048             NaN\n",
      "\t Line 14:    treatment_type  treatment_dose  treatment_unit\n",
      "14    Brandy Ball        2.534623             NaN\n",
      "\t Line 15:    treatment_type  treatment_dose  treatment_unit\n",
      "15  Rick Valencia        2.883883             NaN\n",
      "\t Line 16:       treatment_type  treatment_dose  treatment_unit\n",
      "16  Elizabeth Hebert        1.311124             NaN\n",
      "\t Line 17:     treatment_type  treatment_dose  treatment_unit\n",
      "17  Stephen Medina        12.02656             NaN\n",
      "\t Line 18:    treatment_type  treatment_dose  treatment_unit\n",
      "18    Mark Jordan        3.316627             NaN\n",
      "\t Line 19:     treatment_type  treatment_dose  treatment_unit\n",
      "19  Michael Massey         9.39076             NaN\n",
      "\t Line 20:      treatment_type  treatment_dose  treatment_unit\n",
      "20  Annette Stevens        6.237244             NaN\n",
      "\t Line 21:    treatment_type  treatment_dose  treatment_unit\n",
      "21   Tiffany Bass        9.397212             NaN\n",
      "\t Line 22:    treatment_type  treatment_dose  treatment_unit\n",
      "22  Gina Phillips        5.070393             NaN\n",
      "\t Line 23:    treatment_type  treatment_dose  treatment_unit\n",
      "23   Laura Watson        6.275457             NaN\n",
      "\t Line 24:    treatment_type  treatment_dose  treatment_unit\n",
      "24    Robert Odom        5.013657             NaN\n",
      "\t Line 25:     treatment_type  treatment_dose  treatment_unit\n",
      "25  Andrew Daniels        5.005655             NaN\n",
      "\t Line 26:    treatment_type  treatment_dose  treatment_unit\n",
      "26     Tina Knapp       10.719111             NaN\n",
      "\t Line 27:     treatment_type  treatment_dose  treatment_unit\n",
      "27  Carlos Johnson       11.340545             NaN\n",
      "\t Line 28:    treatment_type  treatment_dose  treatment_unit\n",
      "28    James Davis        6.888991             NaN\n",
      "\t Line 29:    treatment_type  treatment_dose  treatment_unit\n",
      "29  Sarah Bennett        4.681254             NaN\n",
      "\t Line 30:    treatment_type  treatment_dose  treatment_unit\n",
      "30  Jasmine Kline        2.999737             NaN\n",
      "\t Line 31:    treatment_type  treatment_dose  treatment_unit\n",
      "31   Ricky Baxter         0.11757             NaN\n",
      "\t Line 32:    treatment_type  treatment_dose  treatment_unit\n",
      "32   Megan Fisher       10.593327             NaN\n",
      "\t Line 33:    treatment_type  treatment_dose  treatment_unit\n",
      "33     Adam Olson       14.080073             NaN\n",
      "\t Line 34:    treatment_type  treatment_dose  treatment_unit\n",
      "34   Joshua Smith        2.398041             NaN\n",
      "\t Line 35:      treatment_type  treatment_dose  treatment_unit\n",
      "35  Anthony Mercado       11.014961             NaN\n",
      "\t Line 36:    treatment_type  treatment_dose  treatment_unit\n",
      "36    Micheal Kim        2.273033             NaN\n",
      "\t Line 37:         treatment_type  treatment_dose  treatment_unit\n",
      "37  Kristine Fernandez        2.083915             NaN\n",
      "\t Line 38:     treatment_type  treatment_dose  treatment_unit\n",
      "38  George Whitney        7.900161             NaN\n",
      "\t Line 39:     treatment_type  treatment_dose  treatment_unit\n",
      "39  Michael Moreno         6.22548             NaN\n",
      "\t Line 40:    treatment_type  treatment_dose  treatment_unit\n",
      "40  Gavin Jackson       13.698313             NaN\n",
      "\t Line 41:        treatment_type  treatment_dose  treatment_unit\n",
      "41  William Zimmerman        7.030451             NaN\n",
      "\t Line 42:      treatment_type  treatment_dose  treatment_unit\n",
      "42  Anthony Jenkins       14.005838             NaN\n",
      "\t Line 43:    treatment_type  treatment_dose  treatment_unit\n",
      "43  Paul Fletcher       11.735217             NaN\n",
      "\t Line 44:     treatment_type  treatment_dose  treatment_unit\n",
      "44  Madison Miller         5.46121             NaN\n",
      "\t Line 45:    treatment_type  treatment_dose  treatment_unit\n",
      "45     Terri Nash       12.108725             NaN\n",
      "\t Line 46:        treatment_type  treatment_dose  treatment_unit\n",
      "46  Nicholas Franklin         0.59814             NaN\n",
      "\t Line 47:     treatment_type  treatment_dose  treatment_unit\n",
      "47  Theresa Butler        7.701765             NaN\n",
      "\t Line 48:    treatment_type  treatment_dose  treatment_unit\n",
      "48  Megan Edwards        4.259971             NaN\n",
      "\t Line 49:       treatment_type  treatment_dose  treatment_unit\n",
      "49  Crystal Schwartz        1.031377             NaN\n",
      "\t Line 50:    treatment_type  treatment_dose  treatment_unit\n",
      "50  William Woods       14.725078             NaN\n",
      "\t Line 51:    treatment_type  treatment_dose  treatment_unit\n",
      "51  Amanda Miller       11.922995             NaN\n",
      "\t Line 52:    treatment_type  treatment_dose  treatment_unit\n",
      "52   Amber Molina        5.080577             NaN\n",
      "\t Line 53:    treatment_type  treatment_dose  treatment_unit\n",
      "53  Carly Johnson        8.783794             NaN\n",
      "\t Line 54:     treatment_type  treatment_dose  treatment_unit\n",
      "54  Jennifer Mason        8.710203             NaN\n",
      "\t Line 55:    treatment_type  treatment_dose  treatment_unit\n",
      "55  Jeremy Taylor        7.821723             NaN\n",
      "\t Line 56:    treatment_type  treatment_dose  treatment_unit\n",
      "56  Brandon Woods       11.152739             NaN\n",
      "\t Line 57:      treatment_type  treatment_dose  treatment_unit\n",
      "57  Steven Martinez        5.471734             NaN\n",
      "\t Line 58:    treatment_type  treatment_dose  treatment_unit\n",
      "58    Eduardo Lam        2.657293             NaN\n",
      "\t Line 59:       treatment_type  treatment_dose  treatment_unit\n",
      "59  Nicholas Edwards        2.804448             NaN\n",
      "\t Line 60:    treatment_type  treatment_dose  treatment_unit\n",
      "60  Carlos Fowler        1.201272             NaN\n",
      "\t Line 61:       treatment_type  treatment_dose  treatment_unit\n",
      "61  Joshua Mcfarland        2.695194             NaN\n",
      "\t Line 62:    treatment_type  treatment_dose  treatment_unit\n",
      "62   Sara Manning        6.973575             NaN\n",
      "\t Line 63:    treatment_type  treatment_dose  treatment_unit\n",
      "63   Thomas Hardy       12.249471             NaN\n",
      "\t Line 64:      treatment_type  treatment_dose  treatment_unit\n",
      "64  Kimberly Becker       11.419891             NaN\n",
      "\t Line 65:      treatment_type  treatment_dose  treatment_unit\n",
      "65  Dennis Phillips        7.656123             NaN\n",
      "\t Line 66:    treatment_type  treatment_dose  treatment_unit\n",
      "66  Joshua Dennis        2.601895             NaN\n",
      "\t Line 67:     treatment_type  treatment_dose  treatment_unit\n",
      "67  Nicholas Colon        1.214527             NaN\n",
      "\t Line 68:    treatment_type  treatment_dose  treatment_unit\n",
      "68  Bradley Smith       11.017454             NaN\n",
      "\t Line 69:      treatment_type  treatment_dose  treatment_unit\n",
      "69  Carolyn Daniels        7.754124             NaN\n",
      "\t Line 70:      treatment_type  treatment_dose  treatment_unit\n",
      "70  Jessica Donovan       10.993445             NaN\n",
      "\t Line 71:    treatment_type  treatment_dose  treatment_unit\n",
      "71     John Reyes       14.264264             NaN\n",
      "\t Line 72:       treatment_type  treatment_dose  treatment_unit\n",
      "72  Carrie Rodriguez        9.628813             NaN\n",
      "\t Line 73:    treatment_type  treatment_dose  treatment_unit\n",
      "73  Ricardo Nixon       12.259662             NaN\n",
      "\t Line 74:     treatment_type  treatment_dose  treatment_unit\n",
      "74  Tiffany Rivera       11.100558             NaN\n",
      "\t Line 75:       treatment_type  treatment_dose  treatment_unit\n",
      "75  Kimberly Charles        7.726941             NaN\n",
      "\t Line 76:       treatment_type  treatment_dose  treatment_unit\n",
      "76  Jeremy Davenport        6.031296             NaN\n",
      "\t Line 77:    treatment_type  treatment_dose  treatment_unit\n",
      "77    Paul Harmon       14.888141             NaN\n",
      "\t Line 78:    treatment_type  treatment_dose  treatment_unit\n",
      "78   David Adkins        13.66722             NaN\n",
      "\t Line 79:    treatment_type  treatment_dose  treatment_unit\n",
      "79  Alyssa Fields        0.789587             NaN\n",
      "\t Line 80:     treatment_type  treatment_dose  treatment_unit\n",
      "80  Alexandra Ruiz       10.198884             NaN\n",
      "\t Line 81:    treatment_type  treatment_dose  treatment_unit\n",
      "81    Janet Henry         0.29927             NaN\n",
      "\t Line 82:         treatment_type  treatment_dose  treatment_unit\n",
      "82  Mrs. Shelly Turner        6.038256             NaN\n",
      "\t Line 83:    treatment_type  treatment_dose  treatment_unit\n",
      "83  Brooke Booker        0.142141             NaN\n",
      "\t Line 84:    treatment_type  treatment_dose  treatment_unit\n",
      "84   Frank Guzman        6.226332             NaN\n",
      "\t Line 85:    treatment_type  treatment_dose  treatment_unit\n",
      "85     John Ellis        0.749485             NaN\n",
      "\t Line 86:    treatment_type  treatment_dose  treatment_unit\n",
      "86    Mariah Case       12.852708             NaN\n",
      "\t Line 87:     treatment_type  treatment_dose  treatment_unit\n",
      "87  Sharon Hopkins        9.726465             NaN\n",
      "\t Line 88:     treatment_type  treatment_dose  treatment_unit\n",
      "88  Deborah Parker       12.265505             NaN\n",
      "\t Line 89:       treatment_type  treatment_dose  treatment_unit\n",
      "89  Shannon Phillips         7.51171             NaN\n",
      "\t Line 90:       treatment_type  treatment_dose  treatment_unit\n",
      "90  Lindsey Crawford       11.592302             NaN\n",
      "\t Line 91:      treatment_type  treatment_dose  treatment_unit\n",
      "91  Barbara Hartman         4.52899             NaN\n",
      "\t Line 92:      treatment_type  treatment_dose  treatment_unit\n",
      "92  Michael Sanders        6.547225             NaN\n",
      "\t Line 93:     treatment_type  treatment_dose  treatment_unit\n",
      "93  Brittany Lewis       10.491529             NaN\n",
      "\t Line 94:    treatment_type  treatment_dose  treatment_unit\n",
      "94     James Snow         5.87413             NaN\n",
      "\t Line 95:    treatment_type  treatment_dose  treatment_unit\n",
      "95   Sandy Thomas        2.184097             NaN\n",
      "\t Line 96:    treatment_type  treatment_dose  treatment_unit\n",
      "96  Carolyn Moore        7.466179             NaN\n",
      "\t Line 97:    treatment_type  treatment_dose  treatment_unit\n",
      "97    Sarah Ponce       12.924667             NaN\n",
      "\t Line 98:            treatment_type  treatment_dose  treatment_unit\n",
      "98  Christopher Larsen MD       10.817313             NaN\n",
      "\t Line 99:    treatment_type  treatment_dose  treatment_unit\n",
      "99    Laura Baker        6.040088             NaN\n"
     ]
    }
   ],
   "source": [
    "for data_name in data:\n",
    "    result = check_column_clusters(cols, data[data_name])\n",
    "    if len(result) > 0:\n",
    "        print(f\"{data_name}: Invalid entries found:\")\n",
    "        for res in result:\n",
    "            df = data[data_name][res[1]]\n",
    "            print(f\"\\t Line {res[0]}: {df.iloc[[res[0]]]}\")"
   ]
  },
  {
   "cell_type": "markdown",
   "id": "3fd0eab6-d107-468e-ba39-96ab4a1599a7",
   "metadata": {},
   "source": [
    "## Dependecies between clusters of columns"
   ]
  },
  {
   "cell_type": "code",
   "execution_count": 155,
   "id": "68c23436-1d76-4494-9951-824c05bb4c12",
   "metadata": {},
   "outputs": [],
   "source": [
    "for data_name in data:\n",
    "    if set(cols[\"event\"]).issubset(data[data_name].columns):\n",
    "        measure = set(cols[\"measurement\"]).issubset(data[data_name].columns)\n",
    "        inoc = set(cols[\"inoculation\"]).issubset(data[data_name].columns)\n",
    "        treat = set(cols[\"treatment\"]).issubset(data[data_name].columns)\n",
    "        if not (measure or inoc or treat):\n",
    "            print(f\"{data_name}: Need also information on either of measurement, incoulation or treatment\")"
   ]
  },
  {
   "cell_type": "code",
   "execution_count": null,
   "id": "6ba01ad6-5dbe-4a28-9765-98b47a837046",
   "metadata": {},
   "outputs": [],
   "source": []
  }
 ],
 "metadata": {
  "kernelspec": {
   "display_name": "Python 3 (ipykernel)",
   "language": "python",
   "name": "python3"
  },
  "language_info": {
   "codemirror_mode": {
    "name": "ipython",
    "version": 3
   },
   "file_extension": ".py",
   "mimetype": "text/x-python",
   "name": "python",
   "nbconvert_exporter": "python",
   "pygments_lexer": "ipython3",
   "version": "3.12.4"
  }
 },
 "nbformat": 4,
 "nbformat_minor": 5
}
